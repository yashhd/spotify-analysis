{
 "cells": [
  {
   "cell_type": "markdown",
   "id": "219e24cc",
   "metadata": {},
   "source": [
    "## Analysing spotify listening history and creating models"
   ]
  },
  {
   "cell_type": "markdown",
   "id": "604a99e2",
   "metadata": {},
   "source": [
    "### Introduction"
   ]
  },
  {
   "cell_type": "markdown",
   "id": "7c2b99f1",
   "metadata": {},
   "source": [
    "Being an avid music listener, I accumulated years and years of my spotify listening history, which is over 500 hours of streaming time. I am always on a lookout for discovering new genres of music and enjoy exploring new music. Now with this substantial amount of data, I felt I could do something with it, and I built classifiers which could generate song recommendations based on their music taste and let them know whether or not a song is a 'favorite'. The recommendations provided by Spotify are no doubt state of the art. With their discover weekly showcasing new undiscovered songs to the user on a weekly basis. But there’s a finite number of songs recommended through that feature. With this project, one can generate recommendations based on their own music taste and their past listening history on a large scale."
   ]
  },
  {
   "cell_type": "markdown",
   "id": "a447fdc2",
   "metadata": {},
   "source": [
    "### Goal"
   ]
  },
  {
   "cell_type": "markdown",
   "id": "4c6a4c40",
   "metadata": {},
   "source": [
    "The goal of this project is to recommend a list of songs based on the listening history and spotify’s audio features and analyze interesting results of your music taste using various classifier models namely Logistic Regression, Random Forest and Decision tree, to discover which songs appeal the most. The metric used for evaluating the results is F1 score because it is best suited when we care more about the false positives and false negatives. All the more, for a heavily imbalanced problem, f1 score is a better metric to choose."
   ]
  },
  {
   "cell_type": "markdown",
   "id": "3843f807",
   "metadata": {},
   "source": [
    "### Data"
   ]
  },
  {
   "cell_type": "markdown",
   "id": "309b2e6e",
   "metadata": {},
   "source": [
    "I used two datasets to proceed further namely, streaminghistorymerged.csv and SpotifyAudioFeaturesApril2019.csv. Now, Spotify does not readily provide your listening data to you in the application. One has to go to their Spotify account website on the internet and put a request to Spotify to send you your user data. You then get an email saying that it might take up to 30 days for Spotify to send that data. But it usually takes around 2-3 days and you receive the data in your email. The data is a zip file with vast information about your spotify data. The zip file contains several JSON files like searchqueries.json, payments.json, yourlibrary.json and other files which contain useful information of your account as well as data of your interaction history with music on Spotify’s application.\n",
    "\n",
    "The 3 streaming history files were then converted to csv through a python script and then later merged into one file called ‘streamingHostorymerged.csv’. It has 22,706 rows and 4 columns namely artist, date(time when the stream ended), msPlayed(minutes in milliseconds) and trackName. The SpotifyAudioFeaturesApril2019.csv file contains 130,663 rows and 17 columns and they are related to the songs features like acousticness, liveliness, popularity, instrumentalness etc."
   ]
  },
  {
   "cell_type": "markdown",
   "id": "4e2ad7f2",
   "metadata": {},
   "source": [
    "#### Why use the features of the song?"
   ]
  },
  {
   "cell_type": "markdown",
   "id": "82cbe235",
   "metadata": {},
   "source": [
    "The features of a song are quite important here in predicting a user’s music taste. For example, a song which is good for dancing will have a maximum danceability value of 1 and will be a good song to shake a leg. If we want to find a song with a good energy, the energy feature of that song should be 1, indicating that the track is energetic, fast, noisy and loud. Let’s say you like acoustic music a lot more, then one would look for an acousticness value of 1. In the end, the features having a stronger correlation with the favorite songs are used to make the predictions."
   ]
  },
  {
   "cell_type": "markdown",
   "id": "47da8c67",
   "metadata": {},
   "source": [
    "### Approach"
   ]
  },
  {
   "cell_type": "markdown",
   "id": "6a07d4ce",
   "metadata": {},
   "source": [
    "- Data Cleaning and Exploration\n",
    "- Using SMOTE for oversampling\n",
    "- Training and comparing models\n",
    "- Generating predictions"
   ]
  },
  {
   "cell_type": "markdown",
   "id": "8241eb87",
   "metadata": {},
   "source": [
    "### Results and Future Scope"
   ]
  },
  {
   "cell_type": "markdown",
   "id": "26f80179",
   "metadata": {},
   "source": [
    "In order to select a good classifier, I compared 3 algorithms namely Random Forest Classifier, Logistic Regression Model and Decision Tree Model. The Logistic Regression model performed poorly with just 70% of mean f1-score after using 10-fold cross validation. Both the Random Forest classifier and the Decision Tree model performed great with 99% of mean f1 score. But the Random Forest model was better when numbers to the right of 0.99 were considered. Additionally, the Random Forest model performed better on the unseen test data set with a f1 score of 0.997, while the Decision Tree model had a score of 0.993. There isn’t much difference but if scores were to be considered, Random Forest performed better. Alternatively, one can also use a decision tree model which can yield similar results.\n",
    "\n",
    "In all, it helped me to generate recommendation of songs at at a massive scale instead of just limiting to a few songs like in Discover Weekly of Spotify. In future, I can automate the process of creating certain playlists by converting the predicted csv files into Spotify playlists which would be more convenient for me."
   ]
  },
  {
   "cell_type": "markdown",
   "id": "cb6ad93c",
   "metadata": {},
   "source": [
    "## Code"
   ]
  },
  {
   "cell_type": "markdown",
   "id": "cc800c38",
   "metadata": {},
   "source": [
    "### Data Cleaning and Exploration"
   ]
  },
  {
   "cell_type": "code",
   "execution_count": 1,
   "id": "8cee5d18",
   "metadata": {},
   "outputs": [],
   "source": [
    "#importing necessary libraries\n",
    "\n",
    "import pandas as pd\n",
    "import numpy as np\n",
    "import seaborn as sns \n",
    "import matplotlib.pyplot as plt \n",
    "import os,glob\n",
    "from imblearn.over_sampling import SMOTE\n",
    "from sklearn.ensemble import RandomForestClassifier\n",
    "from sklearn.linear_model import LogisticRegression \n",
    "from sklearn.tree import DecisionTreeClassifier\n",
    "import sklearn\n",
    "from sklearn.pipeline import Pipeline\n",
    "from sklearn.model_selection import cross_val_score\n",
    "from sklearn.model_selection import train_test_split\n",
    "from sklearn import metrics \n",
    "from sklearn.metrics import f1_score\n",
    "from sklearn.model_selection import GridSearchCV\n",
    "from sklearn.metrics import accuracy_score"
   ]
  },
  {
   "cell_type": "code",
   "execution_count": 2,
   "id": "c2629f3a",
   "metadata": {},
   "outputs": [],
   "source": [
    "#reading the streaming history csv files\n",
    "\n",
    "streamhist_0 = pd.read_csv('/Users/yashd/Documents/Spotify project/StreamingHistory0.csv')\n",
    "streamhist_1 = pd.read_csv('/Users/yashd/Documents/Spotify project/StreamingHistory1.csv')\n",
    "streamhist_2 = pd.read_csv('/Users/yashd/Documents/Spotify project/StreamingHistory2.csv')"
   ]
  },
  {
   "cell_type": "code",
   "execution_count": 3,
   "id": "50ebb305",
   "metadata": {},
   "outputs": [],
   "source": [
    "#merging of three streaming history files\n",
    "\n",
    "path = \"/Users/yashd/Documents/Spotify project/\"\n",
    "all_files = glob.glob(os.path.join(path, \"StreamingHistory*.csv\"))\n",
    "df_from_each_file = (pd.read_csv(f, sep=',') for f in all_files)\n",
    "df_merged   = pd.concat(df_from_each_file, ignore_index=True)\n",
    "df_merged.to_csv( \"/Users/yashd/Documents/Spotify project/streaminghistorymerged.csv\")"
   ]
  },
  {
   "cell_type": "code",
   "execution_count": 4,
   "id": "a74b9e48",
   "metadata": {},
   "outputs": [
    {
     "data": {
      "text/plain": [
       "(22706, 5)"
      ]
     },
     "execution_count": 4,
     "metadata": {},
     "output_type": "execute_result"
    }
   ],
   "source": [
    "streaming_hist=pd.read_csv('/Users/yashd/Documents/Spotify project/streaminghistorymerged.csv')\n",
    "streaming_hist.shape"
   ]
  },
  {
   "cell_type": "code",
   "execution_count": 5,
   "id": "4b26f901",
   "metadata": {},
   "outputs": [],
   "source": [
    "#reading the spotify features csv file\n",
    "\n",
    "spotify_features=pd.read_csv('/Users/yashd/Documents/Spotify project/SpotifyAudioFeaturesApril2019.csv')"
   ]
  },
  {
   "cell_type": "code",
   "execution_count": 6,
   "id": "1039e87c",
   "metadata": {},
   "outputs": [],
   "source": [
    "#renaming certain column names\n",
    "\n",
    "streaming_hist = streaming_hist.rename(columns={\"artistName\":\"artist\",\"endTime\":\"date\",\"trackName\":\"track\"})\n"
   ]
  },
  {
   "cell_type": "code",
   "execution_count": 7,
   "id": "3021341e",
   "metadata": {},
   "outputs": [
    {
     "data": {
      "text/html": [
       "<div>\n",
       "<style scoped>\n",
       "    .dataframe tbody tr th:only-of-type {\n",
       "        vertical-align: middle;\n",
       "    }\n",
       "\n",
       "    .dataframe tbody tr th {\n",
       "        vertical-align: top;\n",
       "    }\n",
       "\n",
       "    .dataframe thead th {\n",
       "        text-align: right;\n",
       "    }\n",
       "</style>\n",
       "<table border=\"1\" class=\"dataframe\">\n",
       "  <thead>\n",
       "    <tr style=\"text-align: right;\">\n",
       "      <th></th>\n",
       "      <th>date</th>\n",
       "      <th>artist</th>\n",
       "      <th>track</th>\n",
       "      <th>msPlayed</th>\n",
       "    </tr>\n",
       "  </thead>\n",
       "  <tbody>\n",
       "    <tr>\n",
       "      <th>0</th>\n",
       "      <td>2020-12-04 13:12</td>\n",
       "      <td>Zimmz</td>\n",
       "      <td>Fracture</td>\n",
       "      <td>34311</td>\n",
       "    </tr>\n",
       "    <tr>\n",
       "      <th>1</th>\n",
       "      <td>2020-12-06 06:21</td>\n",
       "      <td>KK</td>\n",
       "      <td>Ajab Si</td>\n",
       "      <td>18234</td>\n",
       "    </tr>\n",
       "    <tr>\n",
       "      <th>2</th>\n",
       "      <td>2020-12-06 06:22</td>\n",
       "      <td>Lucky Ali</td>\n",
       "      <td>Hairat</td>\n",
       "      <td>17659</td>\n",
       "    </tr>\n",
       "    <tr>\n",
       "      <th>3</th>\n",
       "      <td>2020-12-06 06:22</td>\n",
       "      <td>Charlie Puth</td>\n",
       "      <td>How Long</td>\n",
       "      <td>43249</td>\n",
       "    </tr>\n",
       "    <tr>\n",
       "      <th>4</th>\n",
       "      <td>2020-12-06 06:24</td>\n",
       "      <td>Eric Prydz</td>\n",
       "      <td>NOPUS</td>\n",
       "      <td>15175</td>\n",
       "    </tr>\n",
       "  </tbody>\n",
       "</table>\n",
       "</div>"
      ],
      "text/plain": [
       "               date        artist     track  msPlayed\n",
       "0  2020-12-04 13:12         Zimmz  Fracture     34311\n",
       "1  2020-12-06 06:21            KK   Ajab Si     18234\n",
       "2  2020-12-06 06:22     Lucky Ali    Hairat     17659\n",
       "3  2020-12-06 06:22  Charlie Puth  How Long     43249\n",
       "4  2020-12-06 06:24    Eric Prydz     NOPUS     15175"
      ]
     },
     "execution_count": 7,
     "metadata": {},
     "output_type": "execute_result"
    }
   ],
   "source": [
    "streaming_hist = streaming_hist.drop('Unnamed: 0', axis=1)\n",
    "\n",
    "streaming_hist.head()"
   ]
  },
  {
   "cell_type": "code",
   "execution_count": 8,
   "id": "8ccb4648",
   "metadata": {},
   "outputs": [
    {
     "data": {
      "text/html": [
       "<div>\n",
       "<style scoped>\n",
       "    .dataframe tbody tr th:only-of-type {\n",
       "        vertical-align: middle;\n",
       "    }\n",
       "\n",
       "    .dataframe tbody tr th {\n",
       "        vertical-align: top;\n",
       "    }\n",
       "\n",
       "    .dataframe thead th {\n",
       "        text-align: right;\n",
       "    }\n",
       "</style>\n",
       "<table border=\"1\" class=\"dataframe\">\n",
       "  <thead>\n",
       "    <tr style=\"text-align: right;\">\n",
       "      <th></th>\n",
       "      <th>artist_name</th>\n",
       "      <th>track_id</th>\n",
       "      <th>track_name</th>\n",
       "      <th>acousticness</th>\n",
       "      <th>danceability</th>\n",
       "      <th>duration_ms</th>\n",
       "      <th>energy</th>\n",
       "      <th>instrumentalness</th>\n",
       "      <th>key</th>\n",
       "      <th>liveness</th>\n",
       "      <th>loudness</th>\n",
       "      <th>mode</th>\n",
       "      <th>speechiness</th>\n",
       "      <th>tempo</th>\n",
       "      <th>time_signature</th>\n",
       "      <th>valence</th>\n",
       "      <th>popularity</th>\n",
       "    </tr>\n",
       "  </thead>\n",
       "  <tbody>\n",
       "    <tr>\n",
       "      <th>0</th>\n",
       "      <td>YG</td>\n",
       "      <td>2RM4jf1Xa9zPgMGRDiht8O</td>\n",
       "      <td>Big Bank feat. 2 Chainz, Big Sean, Nicki Minaj</td>\n",
       "      <td>0.005820</td>\n",
       "      <td>0.743</td>\n",
       "      <td>238373</td>\n",
       "      <td>0.339</td>\n",
       "      <td>0.000</td>\n",
       "      <td>1</td>\n",
       "      <td>0.0812</td>\n",
       "      <td>-7.678</td>\n",
       "      <td>1</td>\n",
       "      <td>0.4090</td>\n",
       "      <td>203.927</td>\n",
       "      <td>4</td>\n",
       "      <td>0.118</td>\n",
       "      <td>15</td>\n",
       "    </tr>\n",
       "    <tr>\n",
       "      <th>1</th>\n",
       "      <td>YG</td>\n",
       "      <td>1tHDG53xJNGsItRA3vfVgs</td>\n",
       "      <td>BAND DRUM (feat. A$AP Rocky)</td>\n",
       "      <td>0.024400</td>\n",
       "      <td>0.846</td>\n",
       "      <td>214800</td>\n",
       "      <td>0.557</td>\n",
       "      <td>0.000</td>\n",
       "      <td>8</td>\n",
       "      <td>0.2860</td>\n",
       "      <td>-7.259</td>\n",
       "      <td>1</td>\n",
       "      <td>0.4570</td>\n",
       "      <td>159.009</td>\n",
       "      <td>4</td>\n",
       "      <td>0.371</td>\n",
       "      <td>0</td>\n",
       "    </tr>\n",
       "    <tr>\n",
       "      <th>2</th>\n",
       "      <td>R3HAB</td>\n",
       "      <td>6Wosx2euFPMT14UXiWudMy</td>\n",
       "      <td>Radio Silence</td>\n",
       "      <td>0.025000</td>\n",
       "      <td>0.603</td>\n",
       "      <td>138913</td>\n",
       "      <td>0.723</td>\n",
       "      <td>0.000</td>\n",
       "      <td>9</td>\n",
       "      <td>0.0824</td>\n",
       "      <td>-5.890</td>\n",
       "      <td>0</td>\n",
       "      <td>0.0454</td>\n",
       "      <td>114.966</td>\n",
       "      <td>4</td>\n",
       "      <td>0.382</td>\n",
       "      <td>56</td>\n",
       "    </tr>\n",
       "    <tr>\n",
       "      <th>3</th>\n",
       "      <td>Chris Cooq</td>\n",
       "      <td>3J2Jpw61sO7l6Hc7qdYV91</td>\n",
       "      <td>Lactose</td>\n",
       "      <td>0.029400</td>\n",
       "      <td>0.800</td>\n",
       "      <td>125381</td>\n",
       "      <td>0.579</td>\n",
       "      <td>0.912</td>\n",
       "      <td>5</td>\n",
       "      <td>0.0994</td>\n",
       "      <td>-12.118</td>\n",
       "      <td>0</td>\n",
       "      <td>0.0701</td>\n",
       "      <td>123.003</td>\n",
       "      <td>4</td>\n",
       "      <td>0.641</td>\n",
       "      <td>0</td>\n",
       "    </tr>\n",
       "    <tr>\n",
       "      <th>4</th>\n",
       "      <td>Chris Cooq</td>\n",
       "      <td>2jbYvQCyPgX3CdmAzeVeuS</td>\n",
       "      <td>Same - Original mix</td>\n",
       "      <td>0.000035</td>\n",
       "      <td>0.783</td>\n",
       "      <td>124016</td>\n",
       "      <td>0.792</td>\n",
       "      <td>0.878</td>\n",
       "      <td>7</td>\n",
       "      <td>0.0332</td>\n",
       "      <td>-10.277</td>\n",
       "      <td>1</td>\n",
       "      <td>0.0661</td>\n",
       "      <td>120.047</td>\n",
       "      <td>4</td>\n",
       "      <td>0.928</td>\n",
       "      <td>0</td>\n",
       "    </tr>\n",
       "  </tbody>\n",
       "</table>\n",
       "</div>"
      ],
      "text/plain": [
       "  artist_name                track_id  \\\n",
       "0          YG  2RM4jf1Xa9zPgMGRDiht8O   \n",
       "1          YG  1tHDG53xJNGsItRA3vfVgs   \n",
       "2       R3HAB  6Wosx2euFPMT14UXiWudMy   \n",
       "3  Chris Cooq  3J2Jpw61sO7l6Hc7qdYV91   \n",
       "4  Chris Cooq  2jbYvQCyPgX3CdmAzeVeuS   \n",
       "\n",
       "                                       track_name  acousticness  danceability  \\\n",
       "0  Big Bank feat. 2 Chainz, Big Sean, Nicki Minaj      0.005820         0.743   \n",
       "1                    BAND DRUM (feat. A$AP Rocky)      0.024400         0.846   \n",
       "2                                   Radio Silence      0.025000         0.603   \n",
       "3                                         Lactose      0.029400         0.800   \n",
       "4                             Same - Original mix      0.000035         0.783   \n",
       "\n",
       "   duration_ms  energy  instrumentalness  key  liveness  loudness  mode  \\\n",
       "0       238373   0.339             0.000    1    0.0812    -7.678     1   \n",
       "1       214800   0.557             0.000    8    0.2860    -7.259     1   \n",
       "2       138913   0.723             0.000    9    0.0824    -5.890     0   \n",
       "3       125381   0.579             0.912    5    0.0994   -12.118     0   \n",
       "4       124016   0.792             0.878    7    0.0332   -10.277     1   \n",
       "\n",
       "   speechiness    tempo  time_signature  valence  popularity  \n",
       "0       0.4090  203.927               4    0.118          15  \n",
       "1       0.4570  159.009               4    0.371           0  \n",
       "2       0.0454  114.966               4    0.382          56  \n",
       "3       0.0701  123.003               4    0.641           0  \n",
       "4       0.0661  120.047               4    0.928           0  "
      ]
     },
     "execution_count": 8,
     "metadata": {},
     "output_type": "execute_result"
    }
   ],
   "source": [
    "spotify_features.head()"
   ]
  },
  {
   "cell_type": "code",
   "execution_count": 9,
   "id": "5bb0bec0",
   "metadata": {},
   "outputs": [
    {
     "data": {
      "text/plain": [
       "(130663, 17)"
      ]
     },
     "execution_count": 9,
     "metadata": {},
     "output_type": "execute_result"
    }
   ],
   "source": [
    "spotify_features = spotify_features.rename(columns={\"artist_name\":\"artist\",\"track_name\":\"track\"})\n",
    "\n",
    "spotify_features.shape"
   ]
  },
  {
   "cell_type": "markdown",
   "id": "1b0c8c11",
   "metadata": {},
   "source": [
    "We will choose songs with listening count over 12 to be our favorite song"
   ]
  },
  {
   "cell_type": "markdown",
   "id": "5cc65738",
   "metadata": {},
   "source": [
    "#### Why 12?"
   ]
  },
  {
   "cell_type": "markdown",
   "id": "e24863f5",
   "metadata": {},
   "source": [
    "When a histogram was plotted grouping the artist and the track together, I could see that frequencies of the song suddenly dropped at after 12 counts, indicating that the songs having a count greater than 12 are the ones which I truly enjoy, and they were not just listened randomly or by chance."
   ]
  },
  {
   "cell_type": "code",
   "execution_count": 10,
   "id": "885b011c",
   "metadata": {},
   "outputs": [
    {
     "data": {
      "image/png": "[encoded data removed]",
      "text/plain": [
       "<Figure size 640x480 with 1 Axes>"
      ]
     },
     "metadata": {},
     "output_type": "display_data"
    }
   ],
   "source": [
    "ax = streaming_hist.groupby(['artist','track']).size().to_frame('count').reset_index().plot(kind='hist',bins=10)\n",
    "ax.set_xlim(0,40)\n",
    "ax.set_title(\"Choosing a count for 'favorite' song\")\n",
    "plt.show()"
   ]
  },
  {
   "cell_type": "code",
   "execution_count": 11,
   "id": "b0f0c079",
   "metadata": {},
   "outputs": [
    {
     "data": {
      "text/html": [
       "<div>\n",
       "<style scoped>\n",
       "    .dataframe tbody tr th:only-of-type {\n",
       "        vertical-align: middle;\n",
       "    }\n",
       "\n",
       "    .dataframe tbody tr th {\n",
       "        vertical-align: top;\n",
       "    }\n",
       "\n",
       "    .dataframe thead th {\n",
       "        text-align: right;\n",
       "    }\n",
       "</style>\n",
       "<table border=\"1\" class=\"dataframe\">\n",
       "  <thead>\n",
       "    <tr style=\"text-align: right;\">\n",
       "      <th></th>\n",
       "      <th>artist</th>\n",
       "      <th>track</th>\n",
       "      <th>count</th>\n",
       "    </tr>\n",
       "  </thead>\n",
       "  <tbody>\n",
       "    <tr>\n",
       "      <th>2</th>\n",
       "      <td>*NSYNC</td>\n",
       "      <td>I Want You Back - Radio Edit</td>\n",
       "      <td>12</td>\n",
       "    </tr>\n",
       "    <tr>\n",
       "      <th>9</th>\n",
       "      <td>21 Savage</td>\n",
       "      <td>a lot</td>\n",
       "      <td>25</td>\n",
       "    </tr>\n",
       "    <tr>\n",
       "      <th>18</th>\n",
       "      <td>2Pac</td>\n",
       "      <td>All Eyez On Me (ft. Big Syke)</td>\n",
       "      <td>21</td>\n",
       "    </tr>\n",
       "    <tr>\n",
       "      <th>23</th>\n",
       "      <td>3LAU</td>\n",
       "      <td>How You Love Me</td>\n",
       "      <td>28</td>\n",
       "    </tr>\n",
       "    <tr>\n",
       "      <th>26</th>\n",
       "      <td>5 Seconds of Summer</td>\n",
       "      <td>She Looks So Perfect</td>\n",
       "      <td>12</td>\n",
       "    </tr>\n",
       "  </tbody>\n",
       "</table>\n",
       "</div>"
      ],
      "text/plain": [
       "                 artist                          track  count\n",
       "2                *NSYNC   I Want You Back - Radio Edit     12\n",
       "9             21 Savage                          a lot     25\n",
       "18                 2Pac  All Eyez On Me (ft. Big Syke)     21\n",
       "23                 3LAU                How You Love Me     28\n",
       "26  5 Seconds of Summer           She Looks So Perfect     12"
      ]
     },
     "execution_count": 11,
     "metadata": {},
     "output_type": "execute_result"
    }
   ],
   "source": [
    "#determining the number of counts of each song and keeping songs with a count > 12\n",
    "\n",
    "streaming_hist.groupby(['artist','track']).size().to_frame('count').reset_index()\n",
    "streaming_hist = streaming_hist.groupby(['artist','track']).size().to_frame('count').reset_index()\n",
    "streaming_hist = streaming_hist[streaming_hist['count']>=12]\n",
    "# To display the top 5 rows\n",
    "streaming_hist.head(5)\n",
    "#streaming_hist.shape"
   ]
  },
  {
   "cell_type": "code",
   "execution_count": 12,
   "id": "6c65d2cd",
   "metadata": {},
   "outputs": [],
   "source": [
    "#matching the track names and artists from streaming history with that of spotify features data, in order to fetch\n",
    "#the features of the songs\n",
    "\n",
    "spotify_features['same_artists'] = spotify_features.artist.isin(streaming_hist.artist) \n",
    "spotify_features['same_track'] = spotify_features.track.isin(streaming_hist.track) "
   ]
  },
  {
   "cell_type": "code",
   "execution_count": 13,
   "id": "21c11f29",
   "metadata": {},
   "outputs": [
    {
     "data": {
      "text/plain": [
       "False    127480\n",
       "True       3183\n",
       "Name: same_artists, dtype: int64"
      ]
     },
     "execution_count": 13,
     "metadata": {},
     "output_type": "execute_result"
    }
   ],
   "source": [
    "spotify_features['same_artists'].value_counts()"
   ]
  },
  {
   "cell_type": "code",
   "execution_count": 14,
   "id": "398830dd",
   "metadata": {},
   "outputs": [
    {
     "data": {
      "text/plain": [
       "False    130042\n",
       "True        621\n",
       "Name: same_track, dtype: int64"
      ]
     },
     "execution_count": 14,
     "metadata": {},
     "output_type": "execute_result"
    }
   ],
   "source": [
    "spotify_features['same_track'].value_counts()"
   ]
  },
  {
   "cell_type": "code",
   "execution_count": 15,
   "id": "aede8b4c",
   "metadata": {},
   "outputs": [
    {
     "data": {
      "text/plain": [
       "(522, 3)"
      ]
     },
     "execution_count": 15,
     "metadata": {},
     "output_type": "execute_result"
    }
   ],
   "source": [
    "streaming_hist.shape"
   ]
  },
  {
   "cell_type": "code",
   "execution_count": 16,
   "id": "b90782dd",
   "metadata": {},
   "outputs": [],
   "source": [
    "#creating the column 'favorite'\n",
    "\n",
    "spotify_features[\"favorite\"] = np.where((spotify_features['same_artists'] == True) & (spotify_features['same_track'] == True),1,0)"
   ]
  },
  {
   "cell_type": "code",
   "execution_count": 17,
   "id": "c8e9d2c6",
   "metadata": {},
   "outputs": [],
   "source": [
    "spotify_features = spotify_features.drop([\"same_artists\",\"same_track\"], axis=1)\n"
   ]
  },
  {
   "cell_type": "code",
   "execution_count": 61,
   "id": "bf0286eb",
   "metadata": {},
   "outputs": [],
   "source": [
    "original = spotify_features.copy(deep= True)"
   ]
  },
  {
   "cell_type": "code",
   "execution_count": 19,
   "id": "d912136a",
   "metadata": {},
   "outputs": [
    {
     "data": {
      "text/plain": [
       "0    130617\n",
       "1        46\n",
       "Name: favorite, dtype: int64"
      ]
     },
     "execution_count": 19,
     "metadata": {},
     "output_type": "execute_result"
    }
   ],
   "source": [
    "#shows the imbalancing of the classes\n",
    "\n",
    "spotify_features[\"favorite\"].value_counts()"
   ]
  },
  {
   "cell_type": "markdown",
   "id": "564062cc",
   "metadata": {},
   "source": [
    "### Using SMOTE for oversampling"
   ]
  },
  {
   "cell_type": "markdown",
   "id": "68eccb74",
   "metadata": {},
   "source": [
    "When I observed the favorite column after all the matching and merging, class ‘1’ was heavily imbalanced with just 46 values since the spotifyfeatures data set is a little old and ‘0’ class with around 13000 values. Hence to balance this out, I used SMOTE to oversample the minority class 1. Also, undersampling the majority class is never an option in this scenario."
   ]
  },
  {
   "cell_type": "code",
   "execution_count": 20,
   "id": "d57fa059",
   "metadata": {},
   "outputs": [
    {
     "data": {
      "text/html": [
       "<div>\n",
       "<style scoped>\n",
       "    .dataframe tbody tr th:only-of-type {\n",
       "        vertical-align: middle;\n",
       "    }\n",
       "\n",
       "    .dataframe tbody tr th {\n",
       "        vertical-align: top;\n",
       "    }\n",
       "\n",
       "    .dataframe thead th {\n",
       "        text-align: right;\n",
       "    }\n",
       "</style>\n",
       "<table border=\"1\" class=\"dataframe\">\n",
       "  <thead>\n",
       "    <tr style=\"text-align: right;\">\n",
       "      <th></th>\n",
       "      <th>acousticness</th>\n",
       "      <th>danceability</th>\n",
       "      <th>duration_ms</th>\n",
       "      <th>energy</th>\n",
       "      <th>instrumentalness</th>\n",
       "      <th>liveness</th>\n",
       "      <th>loudness</th>\n",
       "      <th>speechiness</th>\n",
       "      <th>tempo</th>\n",
       "      <th>valence</th>\n",
       "      <th>popularity</th>\n",
       "      <th>favorite</th>\n",
       "    </tr>\n",
       "  </thead>\n",
       "  <tbody>\n",
       "    <tr>\n",
       "      <th>0</th>\n",
       "      <td>0.005820</td>\n",
       "      <td>0.743</td>\n",
       "      <td>238373</td>\n",
       "      <td>0.339</td>\n",
       "      <td>0.000</td>\n",
       "      <td>0.0812</td>\n",
       "      <td>-7.678</td>\n",
       "      <td>0.4090</td>\n",
       "      <td>203.927</td>\n",
       "      <td>0.118</td>\n",
       "      <td>15</td>\n",
       "      <td>0</td>\n",
       "    </tr>\n",
       "    <tr>\n",
       "      <th>1</th>\n",
       "      <td>0.024400</td>\n",
       "      <td>0.846</td>\n",
       "      <td>214800</td>\n",
       "      <td>0.557</td>\n",
       "      <td>0.000</td>\n",
       "      <td>0.2860</td>\n",
       "      <td>-7.259</td>\n",
       "      <td>0.4570</td>\n",
       "      <td>159.009</td>\n",
       "      <td>0.371</td>\n",
       "      <td>0</td>\n",
       "      <td>0</td>\n",
       "    </tr>\n",
       "    <tr>\n",
       "      <th>2</th>\n",
       "      <td>0.025000</td>\n",
       "      <td>0.603</td>\n",
       "      <td>138913</td>\n",
       "      <td>0.723</td>\n",
       "      <td>0.000</td>\n",
       "      <td>0.0824</td>\n",
       "      <td>-5.890</td>\n",
       "      <td>0.0454</td>\n",
       "      <td>114.966</td>\n",
       "      <td>0.382</td>\n",
       "      <td>56</td>\n",
       "      <td>0</td>\n",
       "    </tr>\n",
       "    <tr>\n",
       "      <th>3</th>\n",
       "      <td>0.029400</td>\n",
       "      <td>0.800</td>\n",
       "      <td>125381</td>\n",
       "      <td>0.579</td>\n",
       "      <td>0.912</td>\n",
       "      <td>0.0994</td>\n",
       "      <td>-12.118</td>\n",
       "      <td>0.0701</td>\n",
       "      <td>123.003</td>\n",
       "      <td>0.641</td>\n",
       "      <td>0</td>\n",
       "      <td>0</td>\n",
       "    </tr>\n",
       "    <tr>\n",
       "      <th>4</th>\n",
       "      <td>0.000035</td>\n",
       "      <td>0.783</td>\n",
       "      <td>124016</td>\n",
       "      <td>0.792</td>\n",
       "      <td>0.878</td>\n",
       "      <td>0.0332</td>\n",
       "      <td>-10.277</td>\n",
       "      <td>0.0661</td>\n",
       "      <td>120.047</td>\n",
       "      <td>0.928</td>\n",
       "      <td>0</td>\n",
       "      <td>0</td>\n",
       "    </tr>\n",
       "  </tbody>\n",
       "</table>\n",
       "</div>"
      ],
      "text/plain": [
       "   acousticness  danceability  duration_ms  energy  instrumentalness  \\\n",
       "0      0.005820         0.743       238373   0.339             0.000   \n",
       "1      0.024400         0.846       214800   0.557             0.000   \n",
       "2      0.025000         0.603       138913   0.723             0.000   \n",
       "3      0.029400         0.800       125381   0.579             0.912   \n",
       "4      0.000035         0.783       124016   0.792             0.878   \n",
       "\n",
       "   liveness  loudness  speechiness    tempo  valence  popularity  favorite  \n",
       "0    0.0812    -7.678       0.4090  203.927    0.118          15         0  \n",
       "1    0.2860    -7.259       0.4570  159.009    0.371           0         0  \n",
       "2    0.0824    -5.890       0.0454  114.966    0.382          56         0  \n",
       "3    0.0994   -12.118       0.0701  123.003    0.641           0         0  \n",
       "4    0.0332   -10.277       0.0661  120.047    0.928           0         0  "
      ]
     },
     "execution_count": 20,
     "metadata": {},
     "output_type": "execute_result"
    }
   ],
   "source": [
    "#using SMOTE to generate synthetic samples from the minority class\n",
    "\n",
    "X = spotify_features.drop(columns=['favorite','artist','key','mode','time_signature','track_id','track'])\n",
    "y = spotify_features.favorite\n",
    "smt = SMOTE()\n",
    "X, y = smt.fit_resample(X, y)\n",
    "X['favorite'] = y\n",
    "X.head()"
   ]
  },
  {
   "cell_type": "code",
   "execution_count": 21,
   "id": "16c23b3f",
   "metadata": {},
   "outputs": [
    {
     "data": {
      "text/plain": [
       "0    130617\n",
       "1    130617\n",
       "Name: favorite, dtype: int64"
      ]
     },
     "execution_count": 21,
     "metadata": {},
     "output_type": "execute_result"
    }
   ],
   "source": [
    "X['favorite'].value_counts()"
   ]
  },
  {
   "cell_type": "code",
   "execution_count": 22,
   "id": "efe3c7ef",
   "metadata": {},
   "outputs": [
    {
     "data": {
      "image/png": "[encoded data removed]",
      "text/plain": [
       "<Figure size 1000x700 with 2 Axes>"
      ]
     },
     "metadata": {},
     "output_type": "display_data"
    }
   ],
   "source": [
    "#correaltion matrix\n",
    "\n",
    "plt.figure(figsize=(10,7))\n",
    "cor = X.corr()\n",
    "sns.heatmap(cor, annot=True, cmap=plt.cm.Reds)\n",
    "plt.show()"
   ]
  },
  {
   "cell_type": "markdown",
   "id": "3219e095",
   "metadata": {},
   "source": [
    "Looking at the correlation plot, of all the features, **popularity** seems to be highly correlated with **favorite**, followed by **instrumentalness**, **speechiness**, **loudness**, **liveness** and **tempo**, with **loudness**, **popularity** being positively correlated with the response. Nevertheless, I chose all the feature variables for the model. I feel that all the audio features have a hand in determining a favorite song, and features like energy, danceability aren’t too bad because I tend to like energetic songs and songs I can dance to as well. This was verified with using the .describe() function on the values of features where favorite is equal to 1. The mean scores for both energy and danceability were around 0.6, which is good."
   ]
  },
  {
   "cell_type": "markdown",
   "id": "2a58670a",
   "metadata": {},
   "source": [
    "### Training and comparing models"
   ]
  },
  {
   "cell_type": "markdown",
   "id": "75c3a7b1",
   "metadata": {},
   "source": [
    "In order to select a good classifier, I compared 3 algorithms namely Random Forest Classifier, Logistic Regression Model and Decision Tree Model."
   ]
  },
  {
   "cell_type": "code",
   "execution_count": 23,
   "id": "3c68624c",
   "metadata": {},
   "outputs": [],
   "source": [
    "#doing a train-test-split to split the data into training and testing\n",
    "\n",
    "x_train, x_test, y_train, y_test = train_test_split(X.drop(columns='favorite'), X.favorite,test_size = .25)"
   ]
  },
  {
   "cell_type": "markdown",
   "id": "23218d78",
   "metadata": {},
   "source": [
    "For each of the model, I used cross-validation to see how the model performs"
   ]
  },
  {
   "cell_type": "code",
   "execution_count": 24,
   "id": "28a53fa5",
   "metadata": {},
   "outputs": [
    {
     "name": "stdout",
     "output_type": "stream",
     "text": [
      "0.7029067468405951\n"
     ]
    }
   ],
   "source": [
    "#Logistic Regression model\n",
    "\n",
    "logreg = LogisticRegression()\n",
    "logreg_sc = cross_val_score(logreg, x_train, y_train, cv=10, scoring=\"f1\")\n",
    "print(np.mean(logreg_sc))"
   ]
  },
  {
   "cell_type": "code",
   "execution_count": 25,
   "id": "c6fa5fa1",
   "metadata": {},
   "outputs": [
    {
     "name": "stdout",
     "output_type": "stream",
     "text": [
      "0.9953893993741962\n"
     ]
    }
   ],
   "source": [
    "#Random Forest Classifier \n",
    "\n",
    "rf = RandomForestClassifier(n_estimators=20, max_depth=25)\n",
    "rf_sc= cross_val_score(rf, x_train, y_train, cv=10, scoring=\"f1\")\n",
    "print(np.mean(rf_sc))"
   ]
  },
  {
   "cell_type": "code",
   "execution_count": 26,
   "id": "46cb63fc",
   "metadata": {},
   "outputs": [
    {
     "data": {
      "text/plain": [
       "GridSearchCV(cv=10,\n",
       "             estimator=RandomForestClassifier(max_depth=25, n_estimators=20),\n",
       "             param_grid={'max_depth': [10, 15, 20, 25, 30],\n",
       "                         'n_estimators': [5, 10, 15, 20, 25]})"
      ]
     },
     "execution_count": 26,
     "metadata": {},
     "output_type": "execute_result"
    }
   ],
   "source": [
    "#utilizing hyperparameter optimizaton using gridsearch\n",
    "\n",
    "param_grid = {\n",
    "                 'n_estimators': [5, 10, 15, 20,25],\n",
    "                 'max_depth': [10,15,20,25,30]\n",
    "             }\n",
    "grid_rf = GridSearchCV(rf, param_grid, cv=10)\n",
    "grid_rf.fit(x_train, y_train)"
   ]
  },
  {
   "cell_type": "code",
   "execution_count": null,
   "id": "3380b66b",
   "metadata": {},
   "outputs": [],
   "source": []
  },
  {
   "cell_type": "code",
   "execution_count": 27,
   "id": "ab4d2faa",
   "metadata": {},
   "outputs": [
    {
     "data": {
      "text/plain": [
       "RandomForestClassifier(max_depth=30, n_estimators=20)"
      ]
     },
     "execution_count": 27,
     "metadata": {},
     "output_type": "execute_result"
    }
   ],
   "source": [
    "#to determine the best predictors from the gridsearch\n",
    "\n",
    "grid_rf. best_estimator_"
   ]
  },
  {
   "cell_type": "code",
   "execution_count": 28,
   "id": "0fec4209",
   "metadata": {},
   "outputs": [
    {
     "name": "stdout",
     "output_type": "stream",
     "text": [
      "0.9955060926461664\n"
     ]
    }
   ],
   "source": [
    "rf2 = RandomForestClassifier(n_estimators=20, max_depth=30)\n",
    "rf2_sc= cross_val_score(rf, x_train, y_train, cv=10, scoring=\"f1\")\n",
    "print(np.mean(rf2_sc))"
   ]
  },
  {
   "cell_type": "code",
   "execution_count": 29,
   "id": "ccef6a4c",
   "metadata": {},
   "outputs": [
    {
     "data": {
      "text/plain": [
       "(261234, 12)"
      ]
     },
     "execution_count": 29,
     "metadata": {},
     "output_type": "execute_result"
    }
   ],
   "source": [
    "X.shape"
   ]
  },
  {
   "cell_type": "code",
   "execution_count": 30,
   "id": "5f49db96",
   "metadata": {},
   "outputs": [
    {
     "data": {
      "text/html": [
       "<div>\n",
       "<style scoped>\n",
       "    .dataframe tbody tr th:only-of-type {\n",
       "        vertical-align: middle;\n",
       "    }\n",
       "\n",
       "    .dataframe tbody tr th {\n",
       "        vertical-align: top;\n",
       "    }\n",
       "\n",
       "    .dataframe thead th {\n",
       "        text-align: right;\n",
       "    }\n",
       "</style>\n",
       "<table border=\"1\" class=\"dataframe\">\n",
       "  <thead>\n",
       "    <tr style=\"text-align: right;\">\n",
       "      <th></th>\n",
       "      <th>acousticness</th>\n",
       "      <th>danceability</th>\n",
       "      <th>duration_ms</th>\n",
       "      <th>energy</th>\n",
       "      <th>instrumentalness</th>\n",
       "      <th>liveness</th>\n",
       "      <th>loudness</th>\n",
       "      <th>speechiness</th>\n",
       "      <th>tempo</th>\n",
       "      <th>valence</th>\n",
       "      <th>popularity</th>\n",
       "      <th>favorite</th>\n",
       "    </tr>\n",
       "  </thead>\n",
       "  <tbody>\n",
       "    <tr>\n",
       "      <th>count</th>\n",
       "      <td>261234.000000</td>\n",
       "      <td>261234.000000</td>\n",
       "      <td>2.612340e+05</td>\n",
       "      <td>261234.000000</td>\n",
       "      <td>2.612340e+05</td>\n",
       "      <td>261234.000000</td>\n",
       "      <td>261234.000000</td>\n",
       "      <td>261234.000000</td>\n",
       "      <td>261234.000000</td>\n",
       "      <td>261234.000000</td>\n",
       "      <td>261234.000000</td>\n",
       "      <td>261234.000000</td>\n",
       "    </tr>\n",
       "    <tr>\n",
       "      <th>mean</th>\n",
       "      <td>0.313134</td>\n",
       "      <td>0.597597</td>\n",
       "      <td>2.200446e+05</td>\n",
       "      <td>0.584030</td>\n",
       "      <td>1.471732e-01</td>\n",
       "      <td>0.179179</td>\n",
       "      <td>-8.827410</td>\n",
       "      <td>0.098290</td>\n",
       "      <td>122.429870</td>\n",
       "      <td>0.449796</td>\n",
       "      <td>38.188390</td>\n",
       "      <td>0.500000</td>\n",
       "    </tr>\n",
       "    <tr>\n",
       "      <th>std</th>\n",
       "      <td>0.313353</td>\n",
       "      <td>0.168271</td>\n",
       "      <td>9.371448e+04</td>\n",
       "      <td>0.220413</td>\n",
       "      <td>2.945275e-01</td>\n",
       "      <td>0.130009</td>\n",
       "      <td>5.358546</td>\n",
       "      <td>0.099111</td>\n",
       "      <td>27.856336</td>\n",
       "      <td>0.237584</td>\n",
       "      <td>25.045393</td>\n",
       "      <td>0.500001</td>\n",
       "    </tr>\n",
       "    <tr>\n",
       "      <th>min</th>\n",
       "      <td>0.000000</td>\n",
       "      <td>0.000000</td>\n",
       "      <td>3.203000e+03</td>\n",
       "      <td>0.000000</td>\n",
       "      <td>0.000000e+00</td>\n",
       "      <td>0.000000</td>\n",
       "      <td>-60.000000</td>\n",
       "      <td>0.000000</td>\n",
       "      <td>0.000000</td>\n",
       "      <td>0.000000</td>\n",
       "      <td>0.000000</td>\n",
       "      <td>0.000000</td>\n",
       "    </tr>\n",
       "    <tr>\n",
       "      <th>25%</th>\n",
       "      <td>0.056352</td>\n",
       "      <td>0.489482</td>\n",
       "      <td>1.783942e+05</td>\n",
       "      <td>0.456004</td>\n",
       "      <td>8.735311e-07</td>\n",
       "      <td>0.104000</td>\n",
       "      <td>-10.045000</td>\n",
       "      <td>0.038400</td>\n",
       "      <td>100.021000</td>\n",
       "      <td>0.256463</td>\n",
       "      <td>19.000000</td>\n",
       "      <td>0.000000</td>\n",
       "    </tr>\n",
       "    <tr>\n",
       "      <th>50%</th>\n",
       "      <td>0.176101</td>\n",
       "      <td>0.620096</td>\n",
       "      <td>2.097110e+05</td>\n",
       "      <td>0.615443</td>\n",
       "      <td>5.928964e-04</td>\n",
       "      <td>0.132929</td>\n",
       "      <td>-7.287663</td>\n",
       "      <td>0.057100</td>\n",
       "      <td>122.655926</td>\n",
       "      <td>0.451371</td>\n",
       "      <td>35.000000</td>\n",
       "      <td>0.500000</td>\n",
       "    </tr>\n",
       "    <tr>\n",
       "      <th>75%</th>\n",
       "      <td>0.542980</td>\n",
       "      <td>0.721113</td>\n",
       "      <td>2.469070e+05</td>\n",
       "      <td>0.738605</td>\n",
       "      <td>7.038492e-02</td>\n",
       "      <td>0.216223</td>\n",
       "      <td>-5.632591</td>\n",
       "      <td>0.116966</td>\n",
       "      <td>142.857742</td>\n",
       "      <td>0.629282</td>\n",
       "      <td>58.000000</td>\n",
       "      <td>1.000000</td>\n",
       "    </tr>\n",
       "    <tr>\n",
       "      <th>max</th>\n",
       "      <td>0.996000</td>\n",
       "      <td>0.996000</td>\n",
       "      <td>5.610020e+06</td>\n",
       "      <td>1.000000</td>\n",
       "      <td>1.000000e+00</td>\n",
       "      <td>0.999000</td>\n",
       "      <td>1.806000</td>\n",
       "      <td>0.966000</td>\n",
       "      <td>249.983000</td>\n",
       "      <td>1.000000</td>\n",
       "      <td>100.000000</td>\n",
       "      <td>1.000000</td>\n",
       "    </tr>\n",
       "  </tbody>\n",
       "</table>\n",
       "</div>"
      ],
      "text/plain": [
       "        acousticness   danceability   duration_ms         energy  \\\n",
       "count  261234.000000  261234.000000  2.612340e+05  261234.000000   \n",
       "mean        0.313134       0.597597  2.200446e+05       0.584030   \n",
       "std         0.313353       0.168271  9.371448e+04       0.220413   \n",
       "min         0.000000       0.000000  3.203000e+03       0.000000   \n",
       "25%         0.056352       0.489482  1.783942e+05       0.456004   \n",
       "50%         0.176101       0.620096  2.097110e+05       0.615443   \n",
       "75%         0.542980       0.721113  2.469070e+05       0.738605   \n",
       "max         0.996000       0.996000  5.610020e+06       1.000000   \n",
       "\n",
       "       instrumentalness       liveness       loudness    speechiness  \\\n",
       "count      2.612340e+05  261234.000000  261234.000000  261234.000000   \n",
       "mean       1.471732e-01       0.179179      -8.827410       0.098290   \n",
       "std        2.945275e-01       0.130009       5.358546       0.099111   \n",
       "min        0.000000e+00       0.000000     -60.000000       0.000000   \n",
       "25%        8.735311e-07       0.104000     -10.045000       0.038400   \n",
       "50%        5.928964e-04       0.132929      -7.287663       0.057100   \n",
       "75%        7.038492e-02       0.216223      -5.632591       0.116966   \n",
       "max        1.000000e+00       0.999000       1.806000       0.966000   \n",
       "\n",
       "               tempo        valence     popularity       favorite  \n",
       "count  261234.000000  261234.000000  261234.000000  261234.000000  \n",
       "mean      122.429870       0.449796      38.188390       0.500000  \n",
       "std        27.856336       0.237584      25.045393       0.500001  \n",
       "min         0.000000       0.000000       0.000000       0.000000  \n",
       "25%       100.021000       0.256463      19.000000       0.000000  \n",
       "50%       122.655926       0.451371      35.000000       0.500000  \n",
       "75%       142.857742       0.629282      58.000000       1.000000  \n",
       "max       249.983000       1.000000     100.000000       1.000000  "
      ]
     },
     "execution_count": 30,
     "metadata": {},
     "output_type": "execute_result"
    }
   ],
   "source": [
    "X.describe()"
   ]
  },
  {
   "cell_type": "code",
   "execution_count": 31,
   "id": "79c2a707",
   "metadata": {},
   "outputs": [
    {
     "data": {
      "text/plain": [
       "0.9927290829756608"
      ]
     },
     "execution_count": 31,
     "metadata": {},
     "output_type": "execute_result"
    }
   ],
   "source": [
    "#Decision Tree model\n",
    "\n",
    "dt = DecisionTreeClassifier(max_depth=30)\n",
    "dt_scores = cross_val_score(dt, x_train, y_train, cv=10, scoring=\"f1\")\n",
    "np.mean(dt_scores)"
   ]
  },
  {
   "cell_type": "code",
   "execution_count": 34,
   "id": "fa24d140",
   "metadata": {},
   "outputs": [],
   "source": [
    "preds_rf= rf2.predict(x_test)"
   ]
  },
  {
   "cell_type": "code",
   "execution_count": 33,
   "id": "f78ad1bc",
   "metadata": {},
   "outputs": [
    {
     "data": {
      "text/plain": [
       "RandomForestClassifier(max_depth=30, n_estimators=10)"
      ]
     },
     "execution_count": 33,
     "metadata": {},
     "output_type": "execute_result"
    }
   ],
   "source": [
    "rf2.fit(x_train, y_train)"
   ]
  },
  {
   "cell_type": "code",
   "execution_count": 35,
   "id": "7ce401cb",
   "metadata": {},
   "outputs": [
    {
     "data": {
      "text/plain": [
       "DecisionTreeClassifier(max_depth=30)"
      ]
     },
     "execution_count": 35,
     "metadata": {},
     "output_type": "execute_result"
    }
   ],
   "source": [
    "dt.fit(x_train, y_train)"
   ]
  },
  {
   "cell_type": "code",
   "execution_count": 36,
   "id": "26c241c8",
   "metadata": {},
   "outputs": [],
   "source": [
    "preds_dt= dt.predict(x_test)"
   ]
  },
  {
   "cell_type": "code",
   "execution_count": 37,
   "id": "61e10fc0",
   "metadata": {},
   "outputs": [
    {
     "name": "stdout",
     "output_type": "stream",
     "text": [
      "0.997427613345787\n"
     ]
    }
   ],
   "source": [
    "print(accuracy_score(y_test, preds_rf))"
   ]
  },
  {
   "cell_type": "code",
   "execution_count": 38,
   "id": "98e1a330",
   "metadata": {},
   "outputs": [
    {
     "name": "stdout",
     "output_type": "stream",
     "text": [
      "0.9922675282120381\n"
     ]
    }
   ],
   "source": [
    "print(accuracy_score(y_test, preds_dt))"
   ]
  },
  {
   "cell_type": "code",
   "execution_count": 39,
   "id": "2dca5a41",
   "metadata": {},
   "outputs": [
    {
     "name": "stdout",
     "output_type": "stream",
     "text": [
      "0.992307809477388\n"
     ]
    }
   ],
   "source": [
    "print(f1_score(y_test, preds_dt))"
   ]
  },
  {
   "cell_type": "code",
   "execution_count": 40,
   "id": "550d9ce9",
   "metadata": {},
   "outputs": [
    {
     "name": "stdout",
     "output_type": "stream",
     "text": [
      "0.9974297778593721\n"
     ]
    }
   ],
   "source": [
    "print(f1_score(y_test, preds_rf))"
   ]
  },
  {
   "cell_type": "code",
   "execution_count": 41,
   "id": "63c1cd76",
   "metadata": {},
   "outputs": [
    {
     "data": {
      "text/plain": [
       "LogisticRegression()"
      ]
     },
     "execution_count": 41,
     "metadata": {},
     "output_type": "execute_result"
    }
   ],
   "source": [
    "logreg.fit(x_train, y_train)"
   ]
  },
  {
   "cell_type": "code",
   "execution_count": 42,
   "id": "39103ab2",
   "metadata": {},
   "outputs": [],
   "source": [
    "preds_lr= logreg.predict(x_test)"
   ]
  },
  {
   "cell_type": "code",
   "execution_count": 43,
   "id": "f602c22f",
   "metadata": {
    "scrolled": true
   },
   "outputs": [
    {
     "name": "stdout",
     "output_type": "stream",
     "text": [
      "0.6993264495143993\n"
     ]
    }
   ],
   "source": [
    "print(f1_score(y_test, preds_lr))"
   ]
  },
  {
   "cell_type": "markdown",
   "id": "83724cf9",
   "metadata": {},
   "source": [
    "Based on the F1 scores, the Random Forest Model proved to be the better model among the three."
   ]
  },
  {
   "cell_type": "code",
   "execution_count": 44,
   "id": "e612a597",
   "metadata": {},
   "outputs": [
    {
     "data": {
      "text/html": [
       "<div>\n",
       "<style scoped>\n",
       "    .dataframe tbody tr th:only-of-type {\n",
       "        vertical-align: middle;\n",
       "    }\n",
       "\n",
       "    .dataframe tbody tr th {\n",
       "        vertical-align: top;\n",
       "    }\n",
       "\n",
       "    .dataframe thead th {\n",
       "        text-align: right;\n",
       "    }\n",
       "</style>\n",
       "<table border=\"1\" class=\"dataframe\">\n",
       "  <thead>\n",
       "    <tr style=\"text-align: right;\">\n",
       "      <th></th>\n",
       "      <th>acousticness</th>\n",
       "      <th>danceability</th>\n",
       "      <th>duration_ms</th>\n",
       "      <th>energy</th>\n",
       "      <th>instrumentalness</th>\n",
       "      <th>liveness</th>\n",
       "      <th>loudness</th>\n",
       "      <th>speechiness</th>\n",
       "      <th>tempo</th>\n",
       "      <th>valence</th>\n",
       "      <th>popularity</th>\n",
       "      <th>favorite</th>\n",
       "    </tr>\n",
       "  </thead>\n",
       "  <tbody>\n",
       "    <tr>\n",
       "      <th>count</th>\n",
       "      <td>130617.000000</td>\n",
       "      <td>130617.000000</td>\n",
       "      <td>130617.000000</td>\n",
       "      <td>130617.000000</td>\n",
       "      <td>130617.000000</td>\n",
       "      <td>130617.000000</td>\n",
       "      <td>130617.000000</td>\n",
       "      <td>130617.000000</td>\n",
       "      <td>130617.000000</td>\n",
       "      <td>130617.000000</td>\n",
       "      <td>130617.000000</td>\n",
       "      <td>130617.0</td>\n",
       "    </tr>\n",
       "    <tr>\n",
       "      <th>mean</th>\n",
       "      <td>0.283758</td>\n",
       "      <td>0.613735</td>\n",
       "      <td>227461.806771</td>\n",
       "      <td>0.598873</td>\n",
       "      <td>0.070277</td>\n",
       "      <td>0.163462</td>\n",
       "      <td>-7.680101</td>\n",
       "      <td>0.084557</td>\n",
       "      <td>125.388698</td>\n",
       "      <td>0.459969</td>\n",
       "      <td>52.177504</td>\n",
       "      <td>1.0</td>\n",
       "    </tr>\n",
       "    <tr>\n",
       "      <th>std</th>\n",
       "      <td>0.274201</td>\n",
       "      <td>0.141343</td>\n",
       "      <td>47784.109806</td>\n",
       "      <td>0.170159</td>\n",
       "      <td>0.178358</td>\n",
       "      <td>0.071900</td>\n",
       "      <td>3.458289</td>\n",
       "      <td>0.061712</td>\n",
       "      <td>24.996758</td>\n",
       "      <td>0.213454</td>\n",
       "      <td>21.793139</td>\n",
       "      <td>0.0</td>\n",
       "    </tr>\n",
       "    <tr>\n",
       "      <th>min</th>\n",
       "      <td>0.000213</td>\n",
       "      <td>0.254000</td>\n",
       "      <td>156800.000000</td>\n",
       "      <td>0.138000</td>\n",
       "      <td>0.000000</td>\n",
       "      <td>0.038300</td>\n",
       "      <td>-22.720000</td>\n",
       "      <td>0.023200</td>\n",
       "      <td>75.046000</td>\n",
       "      <td>0.025600</td>\n",
       "      <td>5.000000</td>\n",
       "      <td>1.0</td>\n",
       "    </tr>\n",
       "    <tr>\n",
       "      <th>25%</th>\n",
       "      <td>0.074113</td>\n",
       "      <td>0.512387</td>\n",
       "      <td>199160.000000</td>\n",
       "      <td>0.498334</td>\n",
       "      <td>0.000004</td>\n",
       "      <td>0.110928</td>\n",
       "      <td>-8.756382</td>\n",
       "      <td>0.037868</td>\n",
       "      <td>102.910726</td>\n",
       "      <td>0.280269</td>\n",
       "      <td>32.000000</td>\n",
       "      <td>1.0</td>\n",
       "    </tr>\n",
       "    <tr>\n",
       "      <th>50%</th>\n",
       "      <td>0.163526</td>\n",
       "      <td>0.634195</td>\n",
       "      <td>218703.000000</td>\n",
       "      <td>0.624572</td>\n",
       "      <td>0.001222</td>\n",
       "      <td>0.137802</td>\n",
       "      <td>-6.829092</td>\n",
       "      <td>0.059207</td>\n",
       "      <td>125.097422</td>\n",
       "      <td>0.482300</td>\n",
       "      <td>54.000000</td>\n",
       "      <td>1.0</td>\n",
       "    </tr>\n",
       "    <tr>\n",
       "      <th>75%</th>\n",
       "      <td>0.462246</td>\n",
       "      <td>0.717647</td>\n",
       "      <td>252105.000000</td>\n",
       "      <td>0.723169</td>\n",
       "      <td>0.036456</td>\n",
       "      <td>0.206912</td>\n",
       "      <td>-5.611317</td>\n",
       "      <td>0.110434</td>\n",
       "      <td>146.358823</td>\n",
       "      <td>0.624058</td>\n",
       "      <td>70.000000</td>\n",
       "      <td>1.0</td>\n",
       "    </tr>\n",
       "    <tr>\n",
       "      <th>max</th>\n",
       "      <td>0.989000</td>\n",
       "      <td>0.912000</td>\n",
       "      <td>364233.000000</td>\n",
       "      <td>0.937000</td>\n",
       "      <td>0.962000</td>\n",
       "      <td>0.373000</td>\n",
       "      <td>-2.805000</td>\n",
       "      <td>0.306000</td>\n",
       "      <td>199.178000</td>\n",
       "      <td>0.887000</td>\n",
       "      <td>95.000000</td>\n",
       "      <td>1.0</td>\n",
       "    </tr>\n",
       "  </tbody>\n",
       "</table>\n",
       "</div>"
      ],
      "text/plain": [
       "        acousticness   danceability    duration_ms         energy  \\\n",
       "count  130617.000000  130617.000000  130617.000000  130617.000000   \n",
       "mean        0.283758       0.613735  227461.806771       0.598873   \n",
       "std         0.274201       0.141343   47784.109806       0.170159   \n",
       "min         0.000213       0.254000  156800.000000       0.138000   \n",
       "25%         0.074113       0.512387  199160.000000       0.498334   \n",
       "50%         0.163526       0.634195  218703.000000       0.624572   \n",
       "75%         0.462246       0.717647  252105.000000       0.723169   \n",
       "max         0.989000       0.912000  364233.000000       0.937000   \n",
       "\n",
       "       instrumentalness       liveness       loudness    speechiness  \\\n",
       "count     130617.000000  130617.000000  130617.000000  130617.000000   \n",
       "mean           0.070277       0.163462      -7.680101       0.084557   \n",
       "std            0.178358       0.071900       3.458289       0.061712   \n",
       "min            0.000000       0.038300     -22.720000       0.023200   \n",
       "25%            0.000004       0.110928      -8.756382       0.037868   \n",
       "50%            0.001222       0.137802      -6.829092       0.059207   \n",
       "75%            0.036456       0.206912      -5.611317       0.110434   \n",
       "max            0.962000       0.373000      -2.805000       0.306000   \n",
       "\n",
       "               tempo        valence     popularity  favorite  \n",
       "count  130617.000000  130617.000000  130617.000000  130617.0  \n",
       "mean      125.388698       0.459969      52.177504       1.0  \n",
       "std        24.996758       0.213454      21.793139       0.0  \n",
       "min        75.046000       0.025600       5.000000       1.0  \n",
       "25%       102.910726       0.280269      32.000000       1.0  \n",
       "50%       125.097422       0.482300      54.000000       1.0  \n",
       "75%       146.358823       0.624058      70.000000       1.0  \n",
       "max       199.178000       0.887000      95.000000       1.0  "
      ]
     },
     "execution_count": 44,
     "metadata": {},
     "output_type": "execute_result"
    }
   ],
   "source": [
    "X[X['favorite']==1].describe()"
   ]
  },
  {
   "cell_type": "markdown",
   "id": "94cd5b70",
   "metadata": {},
   "source": [
    "### Generating predictions"
   ]
  },
  {
   "cell_type": "code",
   "execution_count": 48,
   "id": "da25d4a2",
   "metadata": {},
   "outputs": [
    {
     "data": {
      "text/plain": [
       "Index(['artist', 'track_id', 'track', 'acousticness', 'danceability',\n",
       "       'duration_ms', 'energy', 'instrumentalness', 'key', 'liveness',\n",
       "       'loudness', 'mode', 'speechiness', 'tempo', 'time_signature', 'valence',\n",
       "       'popularity', 'favorite'],\n",
       "      dtype='object')"
      ]
     },
     "execution_count": 48,
     "metadata": {},
     "output_type": "execute_result"
    }
   ],
   "source": [
    "original.columns"
   ]
  },
  {
   "cell_type": "code",
   "execution_count": 62,
   "id": "d857f4e9",
   "metadata": {},
   "outputs": [],
   "source": [
    "predictions = rf2.predict(original.drop(columns=['track','track_id','favorite','artist','key','time_signature','mode']))"
   ]
  },
  {
   "cell_type": "code",
   "execution_count": 63,
   "id": "25b09ba5",
   "metadata": {},
   "outputs": [],
   "source": [
    "original['predictions'] = predictions\n"
   ]
  },
  {
   "cell_type": "code",
   "execution_count": 64,
   "id": "75c5091f",
   "metadata": {},
   "outputs": [],
   "source": [
    "#fetching songs which were not considered as favorite originally but are predicted to be\n",
    "\n",
    "original = original[(original['favorite']==0) & (original['predictions'] == 1)]"
   ]
  },
  {
   "cell_type": "code",
   "execution_count": 65,
   "id": "8d163a00",
   "metadata": {},
   "outputs": [],
   "source": [
    "original = original.drop(columns=['track_id','key','time_signature','mode'])"
   ]
  },
  {
   "cell_type": "code",
   "execution_count": 66,
   "id": "e0c19070",
   "metadata": {},
   "outputs": [
    {
     "data": {
      "text/html": [
       "<div>\n",
       "<style scoped>\n",
       "    .dataframe tbody tr th:only-of-type {\n",
       "        vertical-align: middle;\n",
       "    }\n",
       "\n",
       "    .dataframe tbody tr th {\n",
       "        vertical-align: top;\n",
       "    }\n",
       "\n",
       "    .dataframe thead th {\n",
       "        text-align: right;\n",
       "    }\n",
       "</style>\n",
       "<table border=\"1\" class=\"dataframe\">\n",
       "  <thead>\n",
       "    <tr style=\"text-align: right;\">\n",
       "      <th></th>\n",
       "      <th>artist</th>\n",
       "      <th>track</th>\n",
       "      <th>acousticness</th>\n",
       "      <th>danceability</th>\n",
       "      <th>duration_ms</th>\n",
       "      <th>energy</th>\n",
       "      <th>instrumentalness</th>\n",
       "      <th>liveness</th>\n",
       "      <th>loudness</th>\n",
       "      <th>speechiness</th>\n",
       "      <th>tempo</th>\n",
       "      <th>valence</th>\n",
       "      <th>popularity</th>\n",
       "      <th>favorite</th>\n",
       "      <th>predictions</th>\n",
       "    </tr>\n",
       "  </thead>\n",
       "  <tbody>\n",
       "    <tr>\n",
       "      <th>51</th>\n",
       "      <td>Dirty Projectors</td>\n",
       "      <td>Blue Bird</td>\n",
       "      <td>0.5200</td>\n",
       "      <td>0.530</td>\n",
       "      <td>229333</td>\n",
       "      <td>0.521</td>\n",
       "      <td>0.02890</td>\n",
       "      <td>0.209</td>\n",
       "      <td>-7.939</td>\n",
       "      <td>0.1520</td>\n",
       "      <td>117.259</td>\n",
       "      <td>0.529</td>\n",
       "      <td>37</td>\n",
       "      <td>0</td>\n",
       "      <td>1</td>\n",
       "    </tr>\n",
       "    <tr>\n",
       "      <th>204</th>\n",
       "      <td>Allie X</td>\n",
       "      <td>Focus</td>\n",
       "      <td>0.1980</td>\n",
       "      <td>0.569</td>\n",
       "      <td>227330</td>\n",
       "      <td>0.659</td>\n",
       "      <td>0.00618</td>\n",
       "      <td>0.142</td>\n",
       "      <td>-6.839</td>\n",
       "      <td>0.0830</td>\n",
       "      <td>167.893</td>\n",
       "      <td>0.612</td>\n",
       "      <td>32</td>\n",
       "      <td>0</td>\n",
       "      <td>1</td>\n",
       "    </tr>\n",
       "    <tr>\n",
       "      <th>644</th>\n",
       "      <td>Electric Light Orchestra</td>\n",
       "      <td>Loser Gone Wild</td>\n",
       "      <td>0.4260</td>\n",
       "      <td>0.331</td>\n",
       "      <td>327133</td>\n",
       "      <td>0.694</td>\n",
       "      <td>0.00338</td>\n",
       "      <td>0.130</td>\n",
       "      <td>-7.686</td>\n",
       "      <td>0.0361</td>\n",
       "      <td>123.220</td>\n",
       "      <td>0.408</td>\n",
       "      <td>28</td>\n",
       "      <td>0</td>\n",
       "      <td>1</td>\n",
       "    </tr>\n",
       "    <tr>\n",
       "      <th>649</th>\n",
       "      <td>Electric Light Orchestra</td>\n",
       "      <td>Stranger</td>\n",
       "      <td>0.4230</td>\n",
       "      <td>0.555</td>\n",
       "      <td>268853</td>\n",
       "      <td>0.655</td>\n",
       "      <td>0.16100</td>\n",
       "      <td>0.123</td>\n",
       "      <td>-7.890</td>\n",
       "      <td>0.0260</td>\n",
       "      <td>109.821</td>\n",
       "      <td>0.655</td>\n",
       "      <td>27</td>\n",
       "      <td>0</td>\n",
       "      <td>1</td>\n",
       "    </tr>\n",
       "    <tr>\n",
       "      <th>2075</th>\n",
       "      <td>Middle Kids</td>\n",
       "      <td>Bought It</td>\n",
       "      <td>0.3490</td>\n",
       "      <td>0.588</td>\n",
       "      <td>242213</td>\n",
       "      <td>0.724</td>\n",
       "      <td>0.01410</td>\n",
       "      <td>0.119</td>\n",
       "      <td>-5.741</td>\n",
       "      <td>0.0369</td>\n",
       "      <td>112.028</td>\n",
       "      <td>0.270</td>\n",
       "      <td>36</td>\n",
       "      <td>0</td>\n",
       "      <td>1</td>\n",
       "    </tr>\n",
       "    <tr>\n",
       "      <th>...</th>\n",
       "      <td>...</td>\n",
       "      <td>...</td>\n",
       "      <td>...</td>\n",
       "      <td>...</td>\n",
       "      <td>...</td>\n",
       "      <td>...</td>\n",
       "      <td>...</td>\n",
       "      <td>...</td>\n",
       "      <td>...</td>\n",
       "      <td>...</td>\n",
       "      <td>...</td>\n",
       "      <td>...</td>\n",
       "      <td>...</td>\n",
       "      <td>...</td>\n",
       "      <td>...</td>\n",
       "    </tr>\n",
       "    <tr>\n",
       "      <th>130415</th>\n",
       "      <td>Gaullin</td>\n",
       "      <td>Moonlight</td>\n",
       "      <td>0.0529</td>\n",
       "      <td>0.813</td>\n",
       "      <td>173067</td>\n",
       "      <td>0.761</td>\n",
       "      <td>0.01190</td>\n",
       "      <td>0.337</td>\n",
       "      <td>-5.687</td>\n",
       "      <td>0.0850</td>\n",
       "      <td>124.957</td>\n",
       "      <td>0.290</td>\n",
       "      <td>86</td>\n",
       "      <td>0</td>\n",
       "      <td>1</td>\n",
       "    </tr>\n",
       "    <tr>\n",
       "      <th>130426</th>\n",
       "      <td>Blood Orange</td>\n",
       "      <td>Runnin’</td>\n",
       "      <td>0.4120</td>\n",
       "      <td>0.626</td>\n",
       "      <td>235489</td>\n",
       "      <td>0.414</td>\n",
       "      <td>0.00137</td>\n",
       "      <td>0.147</td>\n",
       "      <td>-10.631</td>\n",
       "      <td>0.1090</td>\n",
       "      <td>179.992</td>\n",
       "      <td>0.388</td>\n",
       "      <td>52</td>\n",
       "      <td>0</td>\n",
       "      <td>1</td>\n",
       "    </tr>\n",
       "    <tr>\n",
       "      <th>130527</th>\n",
       "      <td>River Valley Worship</td>\n",
       "      <td>Adore You</td>\n",
       "      <td>0.5660</td>\n",
       "      <td>0.524</td>\n",
       "      <td>257548</td>\n",
       "      <td>0.412</td>\n",
       "      <td>0.00000</td>\n",
       "      <td>0.130</td>\n",
       "      <td>-8.380</td>\n",
       "      <td>0.0292</td>\n",
       "      <td>127.962</td>\n",
       "      <td>0.299</td>\n",
       "      <td>29</td>\n",
       "      <td>0</td>\n",
       "      <td>1</td>\n",
       "    </tr>\n",
       "    <tr>\n",
       "      <th>130588</th>\n",
       "      <td>Dominic Fike</td>\n",
       "      <td>King of Everything</td>\n",
       "      <td>0.7840</td>\n",
       "      <td>0.636</td>\n",
       "      <td>194360</td>\n",
       "      <td>0.474</td>\n",
       "      <td>0.06130</td>\n",
       "      <td>0.113</td>\n",
       "      <td>-8.096</td>\n",
       "      <td>0.0770</td>\n",
       "      <td>167.064</td>\n",
       "      <td>0.571</td>\n",
       "      <td>61</td>\n",
       "      <td>0</td>\n",
       "      <td>1</td>\n",
       "    </tr>\n",
       "    <tr>\n",
       "      <th>130620</th>\n",
       "      <td>Nick Mulvey</td>\n",
       "      <td>In Your Hands - Single Version</td>\n",
       "      <td>0.6050</td>\n",
       "      <td>0.605</td>\n",
       "      <td>230164</td>\n",
       "      <td>0.598</td>\n",
       "      <td>0.00999</td>\n",
       "      <td>0.157</td>\n",
       "      <td>-9.263</td>\n",
       "      <td>0.0323</td>\n",
       "      <td>105.945</td>\n",
       "      <td>0.753</td>\n",
       "      <td>61</td>\n",
       "      <td>0</td>\n",
       "      <td>1</td>\n",
       "    </tr>\n",
       "  </tbody>\n",
       "</table>\n",
       "<p>577 rows × 15 columns</p>\n",
       "</div>"
      ],
      "text/plain": [
       "                          artist                           track  \\\n",
       "51              Dirty Projectors                       Blue Bird   \n",
       "204                      Allie X                           Focus   \n",
       "644     Electric Light Orchestra                 Loser Gone Wild   \n",
       "649     Electric Light Orchestra                        Stranger   \n",
       "2075                 Middle Kids                       Bought It   \n",
       "...                          ...                             ...   \n",
       "130415                   Gaullin                       Moonlight   \n",
       "130426              Blood Orange                         Runnin’   \n",
       "130527      River Valley Worship                       Adore You   \n",
       "130588              Dominic Fike              King of Everything   \n",
       "130620               Nick Mulvey  In Your Hands - Single Version   \n",
       "\n",
       "        acousticness  danceability  duration_ms  energy  instrumentalness  \\\n",
       "51            0.5200         0.530       229333   0.521           0.02890   \n",
       "204           0.1980         0.569       227330   0.659           0.00618   \n",
       "644           0.4260         0.331       327133   0.694           0.00338   \n",
       "649           0.4230         0.555       268853   0.655           0.16100   \n",
       "2075          0.3490         0.588       242213   0.724           0.01410   \n",
       "...              ...           ...          ...     ...               ...   \n",
       "130415        0.0529         0.813       173067   0.761           0.01190   \n",
       "130426        0.4120         0.626       235489   0.414           0.00137   \n",
       "130527        0.5660         0.524       257548   0.412           0.00000   \n",
       "130588        0.7840         0.636       194360   0.474           0.06130   \n",
       "130620        0.6050         0.605       230164   0.598           0.00999   \n",
       "\n",
       "        liveness  loudness  speechiness    tempo  valence  popularity  \\\n",
       "51         0.209    -7.939       0.1520  117.259    0.529          37   \n",
       "204        0.142    -6.839       0.0830  167.893    0.612          32   \n",
       "644        0.130    -7.686       0.0361  123.220    0.408          28   \n",
       "649        0.123    -7.890       0.0260  109.821    0.655          27   \n",
       "2075       0.119    -5.741       0.0369  112.028    0.270          36   \n",
       "...          ...       ...          ...      ...      ...         ...   \n",
       "130415     0.337    -5.687       0.0850  124.957    0.290          86   \n",
       "130426     0.147   -10.631       0.1090  179.992    0.388          52   \n",
       "130527     0.130    -8.380       0.0292  127.962    0.299          29   \n",
       "130588     0.113    -8.096       0.0770  167.064    0.571          61   \n",
       "130620     0.157    -9.263       0.0323  105.945    0.753          61   \n",
       "\n",
       "        favorite  predictions  \n",
       "51             0            1  \n",
       "204            0            1  \n",
       "644            0            1  \n",
       "649            0            1  \n",
       "2075           0            1  \n",
       "...          ...          ...  \n",
       "130415         0            1  \n",
       "130426         0            1  \n",
       "130527         0            1  \n",
       "130588         0            1  \n",
       "130620         0            1  \n",
       "\n",
       "[577 rows x 15 columns]"
      ]
     },
     "execution_count": 66,
     "metadata": {},
     "output_type": "execute_result"
    }
   ],
   "source": [
    "original"
   ]
  },
  {
   "cell_type": "code",
   "execution_count": null,
   "id": "22a79d90",
   "metadata": {},
   "outputs": [],
   "source": []
  }
 ],
 "metadata": {
  "kernelspec": {
   "display_name": "Python 3",
   "language": "python",
   "name": "python3"
  },
  "language_info": {
   "codemirror_mode": {
    "name": "ipython",
    "version": 3
   },
   "file_extension": ".py",
   "mimetype": "text/x-python",
   "name": "python",
   "nbconvert_exporter": "python",
   "pygments_lexer": "ipython3",
   "version": "3.8.5"
  }
 },
 "nbformat": 4,
 "nbformat_minor": 5
}
